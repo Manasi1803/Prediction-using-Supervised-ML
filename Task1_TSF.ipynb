{
  "nbformat": 4,
  "nbformat_minor": 0,
  "metadata": {
    "colab": {
      "name": "Task1_TSF.ipynb",
      "provenance": [],
      "collapsed_sections": [],
      "include_colab_link": true
    },
    "kernelspec": {
      "name": "python3",
      "display_name": "Python 3"
    }
  },
  "cells": [
    {
      "cell_type": "markdown",
      "metadata": {
        "id": "view-in-github",
        "colab_type": "text"
      },
      "source": [
        "<a href=\"https://colab.research.google.com/github/Manasi1803/Prediction-using-Supervised-ML/blob/main/Task1_TSF.ipynb\" target=\"_parent\"><img src=\"https://colab.research.google.com/assets/colab-badge.svg\" alt=\"Open In Colab\"/></a>"
      ]
    },
    {
      "cell_type": "markdown",
      "metadata": {
        "id": "0ELHZSS0S6cJ"
      },
      "source": [
        "**Intern Name - Manasi Sherkhane** "
      ]
    },
    {
      "cell_type": "markdown",
      "metadata": {
        "id": "2eZuuAIdTID5"
      },
      "source": [
        "**Task 1 : Prediction Using Supervised ML**"
      ]
    },
    {
      "cell_type": "markdown",
      "metadata": {
        "id": "dXy6RRvfTP_6"
      },
      "source": [
        "Data Source: http://bit.ly/w-data"
      ]
    },
    {
      "cell_type": "markdown",
      "metadata": {
        "id": "nYpahHXBTn82"
      },
      "source": [
        "**Problem Statement : To predict the percentage of a student based on the number of study hours**"
      ]
    },
    {
      "cell_type": "markdown",
      "metadata": {
        "id": "BYf4TNsFfA0I"
      },
      "source": [
        "Importing the required libraries"
      ]
    },
    {
      "cell_type": "code",
      "metadata": {
        "id": "CMVgZPwMSk17"
      },
      "source": [
        "import numpy as np\r\n",
        "import matplotlib.pyplot as plt\r\n",
        "import pandas as pd\r\n",
        "%matplotlib inline"
      ],
      "execution_count": null,
      "outputs": []
    },
    {
      "cell_type": "code",
      "metadata": {
        "id": "_O7DHfUAUHI5"
      },
      "source": [
        "#Reading data from the remote link\r\n",
        "url = 'http://bit.ly/w-data'\r\n",
        "dataset = pd.read_csv(url)\r\n",
        "dataset.head(10)"
      ],
      "execution_count": null,
      "outputs": []
    },
    {
      "cell_type": "markdown",
      "metadata": {
        "id": "y8xy5Kz7fM1h"
      },
      "source": [
        "Importing the dataset"
      ]
    },
    {
      "cell_type": "markdown",
      "metadata": {
        "id": "y9BeTqe_flKo"
      },
      "source": [
        "Visualize the data"
      ]
    },
    {
      "cell_type": "code",
      "metadata": {
        "id": "t_m0MpaWVGM4"
      },
      "source": [
        "plt.scatter(dataset['Hours'],dataset['Scores'])\r\n",
        "plt.xlabel('Hours Studies')\r\n",
        "plt.ylabel('Marks Scored')\r\n",
        "plt.show()"
      ],
      "execution_count": null,
      "outputs": []
    },
    {
      "cell_type": "markdown",
      "metadata": {
        "id": "8pP1siIbfsyv"
      },
      "source": [
        "From the graph we can see that number of hours studied is directly proportional to the marks scored. If number of study hours increase, the marks scored increases too."
      ]
    },
    {
      "cell_type": "markdown",
      "metadata": {
        "id": "ygS_ntq1gGdv"
      },
      "source": [
        "Splitting the data into x and y"
      ]
    },
    {
      "cell_type": "code",
      "metadata": {
        "id": "NrWRM01MWVNL"
      },
      "source": [
        "x = dataset.iloc[:,:-1].values\r\n",
        "y = dataset.iloc[:,-1].values"
      ],
      "execution_count": null,
      "outputs": []
    },
    {
      "cell_type": "code",
      "metadata": {
        "id": "ZVwGjB6qW8jz"
      },
      "source": [
        "x"
      ],
      "execution_count": null,
      "outputs": []
    },
    {
      "cell_type": "code",
      "metadata": {
        "id": "kg59bmcPXGLY"
      },
      "source": [
        "y"
      ],
      "execution_count": null,
      "outputs": []
    },
    {
      "cell_type": "markdown",
      "metadata": {
        "id": "G1PiN3vMXVaO"
      },
      "source": [
        "**Splitting the data into training and test sets**"
      ]
    },
    {
      "cell_type": "code",
      "metadata": {
        "id": "o_7iTbPbXI0P"
      },
      "source": [
        "from sklearn.model_selection import train_test_split\r\n",
        "x_train,x_test,y_train,y_test=train_test_split(x,y,test_size=1/3,random_state=101)"
      ],
      "execution_count": null,
      "outputs": []
    },
    {
      "cell_type": "code",
      "metadata": {
        "id": "pvESJ1FwY3fO"
      },
      "source": [
        "x_train"
      ],
      "execution_count": null,
      "outputs": []
    },
    {
      "cell_type": "code",
      "metadata": {
        "id": "n_H4AwLNY8Hd"
      },
      "source": [
        "x_test"
      ],
      "execution_count": null,
      "outputs": []
    },
    {
      "cell_type": "code",
      "metadata": {
        "id": "KpVwaBLiZCdE"
      },
      "source": [
        "y_train"
      ],
      "execution_count": null,
      "outputs": []
    },
    {
      "cell_type": "code",
      "metadata": {
        "id": "M1u6bf-JZGZ0"
      },
      "source": [
        "y_test"
      ],
      "execution_count": null,
      "outputs": []
    },
    {
      "cell_type": "markdown",
      "metadata": {
        "id": "vJg4aNFkZOPf"
      },
      "source": [
        "Linear Regression"
      ]
    },
    {
      "cell_type": "code",
      "metadata": {
        "id": "-7NV4k2NZNf5"
      },
      "source": [
        "from sklearn.linear_model import LinearRegression\r\n",
        "LR=LinearRegression()"
      ],
      "execution_count": null,
      "outputs": []
    },
    {
      "cell_type": "markdown",
      "metadata": {
        "id": "WdkQOd0NglJu"
      },
      "source": [
        "Training the model using fit function"
      ]
    },
    {
      "cell_type": "code",
      "metadata": {
        "id": "MKYuHcoGZMAF"
      },
      "source": [
        "LR.fit(x_train,y_train)\r\n",
        "print(\"Training complete\")"
      ],
      "execution_count": null,
      "outputs": []
    },
    {
      "cell_type": "markdown",
      "metadata": {
        "id": "n-6YIskJhZWV"
      },
      "source": [
        "Plotting the Regression Line"
      ]
    },
    {
      "cell_type": "code",
      "metadata": {
        "id": "3sk6Flt6hb6M"
      },
      "source": [
        "line = LR.coef_*x+LR.intercept_"
      ],
      "execution_count": null,
      "outputs": []
    },
    {
      "cell_type": "code",
      "metadata": {
        "id": "CcHR4wd0hrZW"
      },
      "source": [
        "plt.scatter(x,y)\r\n",
        "plt.plot(x,line)\r\n",
        "plt.show()"
      ],
      "execution_count": null,
      "outputs": []
    },
    {
      "cell_type": "markdown",
      "metadata": {
        "id": "tEZx1Dexgu8v"
      },
      "source": [
        "Predicting on x_test"
      ]
    },
    {
      "cell_type": "code",
      "metadata": {
        "id": "RyhakcMmaIhy"
      },
      "source": [
        "y_pred_LR=LR.predict(x_test)"
      ],
      "execution_count": null,
      "outputs": []
    },
    {
      "cell_type": "code",
      "metadata": {
        "id": "iBP9q-IEabJF"
      },
      "source": [
        "x_test"
      ],
      "execution_count": null,
      "outputs": []
    },
    {
      "cell_type": "code",
      "metadata": {
        "id": "DDf3G7N2apw5"
      },
      "source": [
        "y_test"
      ],
      "execution_count": null,
      "outputs": []
    },
    {
      "cell_type": "code",
      "metadata": {
        "id": "wmmnK4uFasxP"
      },
      "source": [
        "y_pred_LR"
      ],
      "execution_count": null,
      "outputs": []
    },
    {
      "cell_type": "markdown",
      "metadata": {
        "id": "ERDQLTCghBhx"
      },
      "source": [
        "Difference between the actual data and predicted data"
      ]
    },
    {
      "cell_type": "code",
      "metadata": {
        "id": "1ytMX98ya6v7"
      },
      "source": [
        "diff_LR=y_test-y_pred_LR"
      ],
      "execution_count": null,
      "outputs": []
    },
    {
      "cell_type": "code",
      "metadata": {
        "id": "dximjm1EbOoe"
      },
      "source": [
        "res_df=pd.concat([pd.Series(y_pred_LR),pd.Series(y_test),pd.Series(diff_LR)],axis=1)\r\n",
        "res_df.columns=['Predicted score','Original score','Difference']"
      ],
      "execution_count": null,
      "outputs": []
    },
    {
      "cell_type": "code",
      "metadata": {
        "id": "ET4-CceWbnxT"
      },
      "source": [
        "res_df"
      ],
      "execution_count": null,
      "outputs": []
    },
    {
      "cell_type": "markdown",
      "metadata": {
        "id": "GdC-vbVuhIUp"
      },
      "source": [
        "Testing with my own input data"
      ]
    },
    {
      "cell_type": "code",
      "metadata": {
        "id": "S9ghx1aWcoPA"
      },
      "source": [
        "hours = [[9.25]]\r\n",
        "own_pred = LR.predict(hours)\r\n",
        "print(\"Number of Hours = {}\".format(hours))\r\n",
        "print(\"Predicted Score = {}\".format(own_pred[0]))"
      ],
      "execution_count": null,
      "outputs": []
    },
    {
      "cell_type": "code",
      "metadata": {
        "id": "lOXd6n8Mdw83"
      },
      "source": [
        "from sklearn import metrics\r\n",
        "print('Mean Absolute Error:',\r\n",
        "      metrics.mean_absolute_error(y_test,y_pred_LR))"
      ],
      "execution_count": null,
      "outputs": []
    }
  ]
}